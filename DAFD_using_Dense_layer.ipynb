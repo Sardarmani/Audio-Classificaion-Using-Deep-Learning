{
 "cells": [
  {
   "cell_type": "code",
   "execution_count": 62,
   "id": "84819004-6630-4f8e-85d7-04e7bb7496dd",
   "metadata": {},
   "outputs": [],
   "source": [
    "import pandas as pd\n",
    "import numpy as np\n",
    "from sklearn.preprocessing import StandardScaler\n",
    "from sklearn.model_selection import train_test_split\n",
    "from tensorflow.keras.models import Sequential\n",
    "from tensorflow.keras.layers import Conv2D, MaxPooling2D, Flatten, Dense, Dropout\n",
    "from keras.layers import Dense, Activation, Dropout\n",
    "from sklearn.preprocessing import LabelEncoder"
   ]
  },
  {
   "cell_type": "code",
   "execution_count": 63,
   "id": "8450b0ad-5529-407e-82bf-a6b6b0d96172",
   "metadata": {},
   "outputs": [],
   "source": [
    "path  = 'KAGGLE/DATASET-balanced.csv'"
   ]
  },
  {
   "cell_type": "code",
   "execution_count": 64,
   "id": "3f5be4cb-d68a-425f-b8ae-ce0d83562451",
   "metadata": {},
   "outputs": [],
   "source": [
    "data = pd.read_csv(path)"
   ]
  },
  {
   "cell_type": "code",
   "execution_count": 65,
   "id": "3a79ce7d-35ae-4d33-9e49-86f7781e7f37",
   "metadata": {},
   "outputs": [
    {
     "data": {
      "text/plain": [
       "27"
      ]
     },
     "execution_count": 65,
     "metadata": {},
     "output_type": "execute_result"
    }
   ],
   "source": [
    "len(data.columns)"
   ]
  },
  {
   "cell_type": "code",
   "execution_count": 66,
   "id": "0e4eb1e3-1913-4bfc-92e0-4832e2904b9f",
   "metadata": {},
   "outputs": [],
   "source": [
    "numerical_columns = data.select_dtypes(include=[np.number]).columns[:-1]"
   ]
  },
  {
   "cell_type": "code",
   "execution_count": 67,
   "id": "ed18bc96-a7f0-4fc8-abbd-73afb74fd0d6",
   "metadata": {},
   "outputs": [],
   "source": [
    "scaler = StandardScaler()\n",
    "\n",
    "# Normalize the numerical columns\n",
    "data[numerical_columns] = scaler.fit_transform(data[numerical_columns])\n"
   ]
  },
  {
   "cell_type": "code",
   "execution_count": null,
   "id": "d5f799b7-1620-4df9-8afc-eef750fecfd8",
   "metadata": {},
   "outputs": [],
   "source": []
  },
  {
   "cell_type": "code",
   "execution_count": 68,
   "id": "671016ea-9f10-401d-917d-39b80e3b0d64",
   "metadata": {},
   "outputs": [],
   "source": [
    "X = data.drop(\"LABEL\", axis=1)\n",
    "y = data[\"LABEL\"]\n"
   ]
  },
  {
   "cell_type": "code",
   "execution_count": 69,
   "id": "e4b2c3a6-5822-43a2-83f8-16ffdfad324b",
   "metadata": {},
   "outputs": [],
   "source": [
    "le = LabelEncoder()\n",
    "y = le.fit_transform(y)"
   ]
  },
  {
   "cell_type": "code",
   "execution_count": 70,
   "id": "389faf88-71c1-4f9e-a9c9-0e4d448761ca",
   "metadata": {},
   "outputs": [],
   "source": [
    "X_train, X_test, y_train, y_test = train_test_split(X, y, test_size=0.2)\n",
    "X_val, X_test, y_val, y_test = train_test_split(X_test, y_test, test_size=0.5)"
   ]
  },
  {
   "cell_type": "code",
   "execution_count": 71,
   "id": "bc3a0d81-fa5d-4db5-9b1c-31f6f5812307",
   "metadata": {},
   "outputs": [],
   "source": [
    "model = Sequential()\n",
    "model.add(Dense(512 , input_shape = (X_train.shape[1],)))\n",
    "model.add(Activation('relu'))\n",
    "model.add(Dropout(0.2))\n",
    "model.add(Dense(1, activation='sigmoid'))"
   ]
  },
  {
   "cell_type": "code",
   "execution_count": 72,
   "id": "31675788-64da-4117-9b73-b8be4637fa05",
   "metadata": {},
   "outputs": [],
   "source": [
    "# model = Sequential()\n",
    "# model.add(Conv2D(32, kernel_size=(3, 3), activation='relu', input_shape=(X_train.shape[1:]))) #, X_train.shape[1], 1)))\n",
    "# model.add(MaxPooling2D(pool_size=(2, 2)))\n",
    "# model.add(Dropout(0.2))\n",
    "# model.add(Conv2D(64, kernel_size=(3, 3), activation='relu'))\n",
    "# model.add(MaxPooling2D(pool_size=(2, 2)))\n",
    "# model.add(Dropout(0.2))\n",
    "# model.add(Flatten())\n",
    "# model.add(Dense(128, activation='relu'))\n",
    "# model.add(Dropout(0.2))\n",
    "# model.add(Dense(1, activation='sigmoid'))"
   ]
  },
  {
   "cell_type": "code",
   "execution_count": 73,
   "id": "35b0bb13-a1ad-44a5-b352-3c52136b5b80",
   "metadata": {},
   "outputs": [
    {
     "name": "stdout",
     "output_type": "stream",
     "text": [
      "Model: \"sequential_6\"\n",
      "_________________________________________________________________\n",
      " Layer (type)                Output Shape              Param #   \n",
      "=================================================================\n",
      " dense_5 (Dense)             (None, 512)               13824     \n",
      "                                                                 \n",
      " activation_1 (Activation)   (None, 512)               0         \n",
      "                                                                 \n",
      " dropout_4 (Dropout)         (None, 512)               0         \n",
      "                                                                 \n",
      " dense_6 (Dense)             (None, 1)                 513       \n",
      "                                                                 \n",
      "=================================================================\n",
      "Total params: 14337 (56.00 KB)\n",
      "Trainable params: 14337 (56.00 KB)\n",
      "Non-trainable params: 0 (0.00 Byte)\n",
      "_________________________________________________________________\n"
     ]
    }
   ],
   "source": [
    "model.summary()"
   ]
  },
  {
   "cell_type": "code",
   "execution_count": 74,
   "id": "c5d181ee-c0f1-4856-ac6e-ce39db353e34",
   "metadata": {},
   "outputs": [],
   "source": [
    "model.compile(loss='binary_crossentropy', optimizer='adam', metrics=['accuracy'])"
   ]
  },
  {
   "cell_type": "code",
   "execution_count": 75,
   "id": "fc55a498-b723-45dd-b5ee-48e82a397544",
   "metadata": {},
   "outputs": [
    {
     "name": "stdout",
     "output_type": "stream",
     "text": [
      "Epoch 1/10\n",
      "295/295 [==============================] - 2s 3ms/step - loss: 0.2199 - accuracy: 0.9217 - val_loss: 0.0804 - val_accuracy: 0.9813\n",
      "Epoch 2/10\n",
      "295/295 [==============================] - 1s 2ms/step - loss: 0.0772 - accuracy: 0.9779 - val_loss: 0.0459 - val_accuracy: 0.9890\n",
      "Epoch 3/10\n",
      "295/295 [==============================] - 1s 2ms/step - loss: 0.0551 - accuracy: 0.9837 - val_loss: 0.0347 - val_accuracy: 0.9898\n",
      "Epoch 4/10\n",
      "295/295 [==============================] - 1s 2ms/step - loss: 0.0436 - accuracy: 0.9869 - val_loss: 0.0314 - val_accuracy: 0.9898\n",
      "Epoch 5/10\n",
      "295/295 [==============================] - 1s 3ms/step - loss: 0.0358 - accuracy: 0.9892 - val_loss: 0.0264 - val_accuracy: 0.9907\n",
      "Epoch 6/10\n",
      "295/295 [==============================] - 1s 3ms/step - loss: 0.0318 - accuracy: 0.9895 - val_loss: 0.0241 - val_accuracy: 0.9915\n",
      "Epoch 7/10\n",
      "295/295 [==============================] - 1s 2ms/step - loss: 0.0263 - accuracy: 0.9921 - val_loss: 0.0218 - val_accuracy: 0.9941\n",
      "Epoch 8/10\n",
      "295/295 [==============================] - 1s 2ms/step - loss: 0.0250 - accuracy: 0.9933 - val_loss: 0.0198 - val_accuracy: 0.9932\n",
      "Epoch 9/10\n",
      "295/295 [==============================] - 1s 2ms/step - loss: 0.0216 - accuracy: 0.9936 - val_loss: 0.0195 - val_accuracy: 0.9932\n",
      "Epoch 10/10\n",
      "295/295 [==============================] - 1s 2ms/step - loss: 0.0206 - accuracy: 0.9938 - val_loss: 0.0252 - val_accuracy: 0.9915\n"
     ]
    },
    {
     "data": {
      "text/plain": [
       "<keras.src.callbacks.History at 0x7f0db42715d0>"
      ]
     },
     "execution_count": 75,
     "metadata": {},
     "output_type": "execute_result"
    }
   ],
   "source": [
    "model.fit(X_train, y_train, epochs=10, batch_size=32, validation_data=(X_val, y_val))"
   ]
  },
  {
   "cell_type": "code",
   "execution_count": 84,
   "id": "d6f41a94-8fb7-4bb6-a98a-e8b63a6f59a4",
   "metadata": {},
   "outputs": [
    {
     "name": "stdout",
     "output_type": "stream",
     "text": [
      "37/37 [==============================] - 0s 2ms/step\n"
     ]
    }
   ],
   "source": [
    "y_pred = model.predict(X_test)"
   ]
  },
  {
   "cell_type": "code",
   "execution_count": 85,
   "id": "d0d57801-5cc2-40d8-9319-0ba61700a1db",
   "metadata": {},
   "outputs": [],
   "source": [
    "threshold = 0.5\n",
    "y_pred = np.where(y_pred > threshold, 1, 0)"
   ]
  },
  {
   "cell_type": "code",
   "execution_count": 86,
   "id": "7580c601-24f3-4aaf-a78c-23dae8181c62",
   "metadata": {},
   "outputs": [
    {
     "name": "stdout",
     "output_type": "stream",
     "text": [
      "Accuracy: 0.9941\n",
      "Precision: 0.9950\n",
      "Recall: 0.9934\n",
      "F1-score: 0.9942\n",
      "[[573   3]\n",
      " [  4 598]]\n"
     ]
    }
   ],
   "source": [
    "\n",
    "\n",
    "# Calculate accuracy, precision, recall, and F1-score\n",
    "from sklearn.metrics import accuracy_score, precision_score, recall_score, f1_score\n",
    "\n",
    "accuracy = accuracy_score(y_test, y_pred)\n",
    "precision = precision_score(y_test, y_pred)\n",
    "recall = recall_score(y_test, y_pred)\n",
    "f1 = f1_score(y_test, y_pred)\n",
    "\n",
    "print(f\"Accuracy: {accuracy:.4f}\")\n",
    "print(f\"Precision: {precision:.4f}\")\n",
    "print(f\"Recall: {recall:.4f}\")\n",
    "print(f\"F1-score: {f1:.4f}\")\n",
    "\n",
    "# Create a confusion matrix (optional)\n",
    "from sklearn.metrics import confusion_matrix\n",
    "\n",
    "cm = confusion_matrix(y_test, y_pred)\n",
    "print(cm)\n"
   ]
  },
  {
   "cell_type": "code",
   "execution_count": 87,
   "id": "34d7bb30-4b0f-478d-ba69-913ac0241d1d",
   "metadata": {},
   "outputs": [
    {
     "data": {
      "image/png": "[encoded data removed]",
      "text/plain": [
       "<Figure size 640x480 with 1 Axes>"
      ]
     },
     "metadata": {},
     "output_type": "display_data"
    }
   ],
   "source": [
    "from sklearn.metrics import roc_curve, auc\n",
    "\n",
    "fpr, tpr, _ = roc_curve(y_test, y_pred)\n",
    "roc_auc = auc(fpr, tpr)\n",
    "\n",
    "import matplotlib.pyplot as plt\n",
    "\n",
    "plt.figure()\n",
    "plt.plot(fpr, tpr, label='ROC curve (area = %0.2f)' % roc_auc)\n",
    "plt.plot([0, 1], [0, 1], 'k--')\n",
    "plt.xlabel('False Positive Rate')\n",
    "plt.ylabel('True Positive Rate')\n",
    "plt.title('ROC Curve')\n",
    "plt.legend(loc='best')\n",
    "plt.show()"
   ]
  },
  {
   "cell_type": "code",
   "execution_count": 88,
   "id": "46e90882-6850-4c83-9cbe-ef87d89413f4",
   "metadata": {},
   "outputs": [
    {
     "data": {
      "text/html": [
       "<div>\n",
       "<style scoped>\n",
       "    .dataframe tbody tr th:only-of-type {\n",
       "        vertical-align: middle;\n",
       "    }\n",
       "\n",
       "    .dataframe tbody tr th {\n",
       "        vertical-align: top;\n",
       "    }\n",
       "\n",
       "    .dataframe thead th {\n",
       "        text-align: right;\n",
       "    }\n",
       "</style>\n",
       "<table border=\"1\" class=\"dataframe\">\n",
       "  <thead>\n",
       "    <tr style=\"text-align: right;\">\n",
       "      <th></th>\n",
       "      <th>chroma_stft</th>\n",
       "      <th>rms</th>\n",
       "      <th>spectral_centroid</th>\n",
       "      <th>spectral_bandwidth</th>\n",
       "      <th>rolloff</th>\n",
       "      <th>zero_crossing_rate</th>\n",
       "      <th>mfcc1</th>\n",
       "      <th>mfcc2</th>\n",
       "      <th>mfcc3</th>\n",
       "      <th>mfcc4</th>\n",
       "      <th>...</th>\n",
       "      <th>mfcc12</th>\n",
       "      <th>mfcc13</th>\n",
       "      <th>mfcc14</th>\n",
       "      <th>mfcc15</th>\n",
       "      <th>mfcc16</th>\n",
       "      <th>mfcc17</th>\n",
       "      <th>mfcc18</th>\n",
       "      <th>mfcc19</th>\n",
       "      <th>mfcc20</th>\n",
       "      <th>LABEL</th>\n",
       "    </tr>\n",
       "  </thead>\n",
       "  <tbody>\n",
       "    <tr>\n",
       "      <th>0</th>\n",
       "      <td>-1.208702</td>\n",
       "      <td>-0.354333</td>\n",
       "      <td>0.116009</td>\n",
       "      <td>1.459052</td>\n",
       "      <td>0.734064</td>\n",
       "      <td>-0.757703</td>\n",
       "      <td>-1.000217</td>\n",
       "      <td>-1.512838</td>\n",
       "      <td>1.578694</td>\n",
       "      <td>0.121693</td>\n",
       "      <td>...</td>\n",
       "      <td>-0.339665</td>\n",
       "      <td>0.499818</td>\n",
       "      <td>-0.961925</td>\n",
       "      <td>0.286917</td>\n",
       "      <td>1.135411</td>\n",
       "      <td>-0.362406</td>\n",
       "      <td>0.818087</td>\n",
       "      <td>-0.455699</td>\n",
       "      <td>-6.779060</td>\n",
       "      <td>FAKE</td>\n",
       "    </tr>\n",
       "    <tr>\n",
       "      <th>1</th>\n",
       "      <td>0.314760</td>\n",
       "      <td>-0.002000</td>\n",
       "      <td>-0.359115</td>\n",
       "      <td>0.453413</td>\n",
       "      <td>-0.558816</td>\n",
       "      <td>-0.587688</td>\n",
       "      <td>-0.337368</td>\n",
       "      <td>-0.682773</td>\n",
       "      <td>0.632521</td>\n",
       "      <td>-0.720502</td>\n",
       "      <td>...</td>\n",
       "      <td>0.349022</td>\n",
       "      <td>-1.018972</td>\n",
       "      <td>0.139881</td>\n",
       "      <td>0.597495</td>\n",
       "      <td>-0.671444</td>\n",
       "      <td>0.263303</td>\n",
       "      <td>0.273190</td>\n",
       "      <td>-1.368420</td>\n",
       "      <td>-8.494421</td>\n",
       "      <td>FAKE</td>\n",
       "    </tr>\n",
       "    <tr>\n",
       "      <th>2</th>\n",
       "      <td>-1.720702</td>\n",
       "      <td>0.665616</td>\n",
       "      <td>-0.024574</td>\n",
       "      <td>-0.216879</td>\n",
       "      <td>-0.120276</td>\n",
       "      <td>0.242328</td>\n",
       "      <td>0.798671</td>\n",
       "      <td>-0.678864</td>\n",
       "      <td>0.002675</td>\n",
       "      <td>0.114762</td>\n",
       "      <td>...</td>\n",
       "      <td>-0.213756</td>\n",
       "      <td>-0.403598</td>\n",
       "      <td>-0.845170</td>\n",
       "      <td>-0.511283</td>\n",
       "      <td>-0.787327</td>\n",
       "      <td>0.505927</td>\n",
       "      <td>0.301427</td>\n",
       "      <td>-0.235670</td>\n",
       "      <td>-7.033001</td>\n",
       "      <td>FAKE</td>\n",
       "    </tr>\n",
       "    <tr>\n",
       "      <th>3</th>\n",
       "      <td>-1.469869</td>\n",
       "      <td>-0.227649</td>\n",
       "      <td>-0.447672</td>\n",
       "      <td>0.519898</td>\n",
       "      <td>-0.543290</td>\n",
       "      <td>-0.601686</td>\n",
       "      <td>-0.277352</td>\n",
       "      <td>-0.241396</td>\n",
       "      <td>0.974044</td>\n",
       "      <td>-1.121839</td>\n",
       "      <td>...</td>\n",
       "      <td>0.384223</td>\n",
       "      <td>-0.075906</td>\n",
       "      <td>-0.947849</td>\n",
       "      <td>-0.139852</td>\n",
       "      <td>1.039752</td>\n",
       "      <td>0.748806</td>\n",
       "      <td>-0.460172</td>\n",
       "      <td>-0.181725</td>\n",
       "      <td>-3.274857</td>\n",
       "      <td>FAKE</td>\n",
       "    </tr>\n",
       "    <tr>\n",
       "      <th>4</th>\n",
       "      <td>-0.026953</td>\n",
       "      <td>-0.774354</td>\n",
       "      <td>-0.181054</td>\n",
       "      <td>0.060030</td>\n",
       "      <td>0.021870</td>\n",
       "      <td>-0.481429</td>\n",
       "      <td>-0.350994</td>\n",
       "      <td>0.212095</td>\n",
       "      <td>0.232011</td>\n",
       "      <td>1.364897</td>\n",
       "      <td>...</td>\n",
       "      <td>0.376055</td>\n",
       "      <td>0.482007</td>\n",
       "      <td>1.560651</td>\n",
       "      <td>1.866382</td>\n",
       "      <td>1.630892</td>\n",
       "      <td>1.342118</td>\n",
       "      <td>1.152252</td>\n",
       "      <td>0.193785</td>\n",
       "      <td>-5.060998</td>\n",
       "      <td>FAKE</td>\n",
       "    </tr>\n",
       "  </tbody>\n",
       "</table>\n",
       "<p>5 rows × 27 columns</p>\n",
       "</div>"
      ],
      "text/plain": [
       "   chroma_stft       rms  spectral_centroid  spectral_bandwidth   rolloff  \\\n",
       "0    -1.208702 -0.354333           0.116009            1.459052  0.734064   \n",
       "1     0.314760 -0.002000          -0.359115            0.453413 -0.558816   \n",
       "2    -1.720702  0.665616          -0.024574           -0.216879 -0.120276   \n",
       "3    -1.469869 -0.227649          -0.447672            0.519898 -0.543290   \n",
       "4    -0.026953 -0.774354          -0.181054            0.060030  0.021870   \n",
       "\n",
       "   zero_crossing_rate     mfcc1     mfcc2     mfcc3     mfcc4  ...    mfcc12  \\\n",
       "0           -0.757703 -1.000217 -1.512838  1.578694  0.121693  ... -0.339665   \n",
       "1           -0.587688 -0.337368 -0.682773  0.632521 -0.720502  ...  0.349022   \n",
       "2            0.242328  0.798671 -0.678864  0.002675  0.114762  ... -0.213756   \n",
       "3           -0.601686 -0.277352 -0.241396  0.974044 -1.121839  ...  0.384223   \n",
       "4           -0.481429 -0.350994  0.212095  0.232011  1.364897  ...  0.376055   \n",
       "\n",
       "     mfcc13    mfcc14    mfcc15    mfcc16    mfcc17    mfcc18    mfcc19  \\\n",
       "0  0.499818 -0.961925  0.286917  1.135411 -0.362406  0.818087 -0.455699   \n",
       "1 -1.018972  0.139881  0.597495 -0.671444  0.263303  0.273190 -1.368420   \n",
       "2 -0.403598 -0.845170 -0.511283 -0.787327  0.505927  0.301427 -0.235670   \n",
       "3 -0.075906 -0.947849 -0.139852  1.039752  0.748806 -0.460172 -0.181725   \n",
       "4  0.482007  1.560651  1.866382  1.630892  1.342118  1.152252  0.193785   \n",
       "\n",
       "     mfcc20  LABEL  \n",
       "0 -6.779060   FAKE  \n",
       "1 -8.494421   FAKE  \n",
       "2 -7.033001   FAKE  \n",
       "3 -3.274857   FAKE  \n",
       "4 -5.060998   FAKE  \n",
       "\n",
       "[5 rows x 27 columns]"
      ]
     },
     "execution_count": 88,
     "metadata": {},
     "output_type": "execute_result"
    }
   ],
   "source": [
    "data.head()"
   ]
  },
  {
   "cell_type": "code",
   "execution_count": 89,
   "id": "c94e5706-0bb9-4218-8647-d7e68cd2c92c",
   "metadata": {},
   "outputs": [
    {
     "data": {
      "text/plain": [
       "(9422, 26)"
      ]
     },
     "execution_count": 89,
     "metadata": {},
     "output_type": "execute_result"
    }
   ],
   "source": [
    "X_train.shape"
   ]
  },
  {
   "cell_type": "code",
   "execution_count": 91,
   "id": "edd676ce-7730-4927-9d76-09788eabc611",
   "metadata": {},
   "outputs": [
    {
     "data": {
      "text/plain": [
       "(9422,)"
      ]
     },
     "execution_count": 91,
     "metadata": {},
     "output_type": "execute_result"
    }
   ],
   "source": [
    "y_train.shape"
   ]
  },
  {
   "cell_type": "code",
   "execution_count": null,
   "id": "1fbddc38-ceea-43c1-96e2-090ffc53df3b",
   "metadata": {},
   "outputs": [],
   "source": []
  }
 ],
 "metadata": {
  "kernelspec": {
   "display_name": "Python 3 (ipykernel)",
   "language": "python",
   "name": "python3"
  },
  "language_info": {
   "codemirror_mode": {
    "name": "ipython",
    "version": 3
   },
   "file_extension": ".py",
   "mimetype": "text/x-python",
   "name": "python",
   "nbconvert_exporter": "python",
   "pygments_lexer": "ipython3",
   "version": "3.10.9"
  }
 },
 "nbformat": 4,
 "nbformat_minor": 5
}
