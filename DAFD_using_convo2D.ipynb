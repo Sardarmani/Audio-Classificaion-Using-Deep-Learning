{
 "cells": [
  {
   "cell_type": "code",
   "execution_count": 1,
   "id": "84819004-6630-4f8e-85d7-04e7bb7496dd",
   "metadata": {},
   "outputs": [
    {
     "name": "stderr",
     "output_type": "stream",
     "text": [
      "2024-02-12 20:02:11.018734: I tensorflow/tsl/cuda/cudart_stub.cc:28] Could not find cuda drivers on your machine, GPU will not be used.\n",
      "2024-02-12 20:02:11.807956: I tensorflow/tsl/cuda/cudart_stub.cc:28] Could not find cuda drivers on your machine, GPU will not be used.\n",
      "2024-02-12 20:02:11.812737: I tensorflow/core/platform/cpu_feature_guard.cc:182] This TensorFlow binary is optimized to use available CPU instructions in performance-critical operations.\n",
      "To enable the following instructions: AVX2 FMA, in other operations, rebuild TensorFlow with the appropriate compiler flags.\n",
      "2024-02-12 20:02:13.579141: W tensorflow/compiler/tf2tensorrt/utils/py_utils.cc:38] TF-TRT Warning: Could not find TensorRT\n"
     ]
    }
   ],
   "source": [
    "import pandas as pd\n",
    "import numpy as np\n",
    "from sklearn.preprocessing import StandardScaler\n",
    "from sklearn.model_selection import train_test_split\n",
    "from tensorflow.keras.models import Sequential\n",
    "\n",
    "from tensorflow.keras.layers import Conv1D, Flatten, Dense, MaxPooling1D, Dropout\n",
    "from keras.layers import Dense, Activation, Dropout\n",
    "from sklearn.preprocessing import LabelEncoder"
   ]
  },
  {
   "cell_type": "code",
   "execution_count": 2,
   "id": "8450b0ad-5529-407e-82bf-a6b6b0d96172",
   "metadata": {},
   "outputs": [],
   "source": [
    "path  = 'KAGGLE/DATASET-balanced.csv'"
   ]
  },
  {
   "cell_type": "code",
   "execution_count": 3,
   "id": "3f5be4cb-d68a-425f-b8ae-ce0d83562451",
   "metadata": {},
   "outputs": [],
   "source": [
    "data = pd.read_csv(path)"
   ]
  },
  {
   "cell_type": "code",
   "execution_count": 4,
   "id": "94ce88e4-65c6-4dbf-956b-820a02cd9d44",
   "metadata": {},
   "outputs": [
    {
     "data": {
      "text/plain": [
       "Index(['chroma_stft', 'rms', 'spectral_centroid', 'spectral_bandwidth',\n",
       "       'rolloff', 'zero_crossing_rate', 'mfcc1', 'mfcc2', 'mfcc3', 'mfcc4',\n",
       "       'mfcc5', 'mfcc6', 'mfcc7', 'mfcc8', 'mfcc9', 'mfcc10', 'mfcc11',\n",
       "       'mfcc12', 'mfcc13', 'mfcc14', 'mfcc15', 'mfcc16', 'mfcc17', 'mfcc18',\n",
       "       'mfcc19', 'mfcc20', 'LABEL'],\n",
       "      dtype='object')"
      ]
     },
     "execution_count": 4,
     "metadata": {},
     "output_type": "execute_result"
    }
   ],
   "source": [
    "data.columns"
   ]
  },
  {
   "cell_type": "code",
   "execution_count": 5,
   "id": "3a79ce7d-35ae-4d33-9e49-86f7781e7f37",
   "metadata": {},
   "outputs": [
    {
     "data": {
      "text/plain": [
       "27"
      ]
     },
     "execution_count": 5,
     "metadata": {},
     "output_type": "execute_result"
    }
   ],
   "source": [
    "len(data.columns)"
   ]
  },
  {
   "cell_type": "code",
   "execution_count": 6,
   "id": "0e4eb1e3-1913-4bfc-92e0-4832e2904b9f",
   "metadata": {},
   "outputs": [],
   "source": [
    "numerical_columns = data.select_dtypes(include=[np.number]).columns[:-1]"
   ]
  },
  {
   "cell_type": "code",
   "execution_count": 7,
   "id": "ed18bc96-a7f0-4fc8-abbd-73afb74fd0d6",
   "metadata": {},
   "outputs": [],
   "source": [
    "scaler = StandardScaler()\n",
    "\n",
    "# Normalize the numerical columns\n",
    "data[numerical_columns] = scaler.fit_transform(data[numerical_columns])\n"
   ]
  },
  {
   "cell_type": "code",
   "execution_count": null,
   "id": "d5f799b7-1620-4df9-8afc-eef750fecfd8",
   "metadata": {},
   "outputs": [],
   "source": []
  },
  {
   "cell_type": "code",
   "execution_count": 8,
   "id": "671016ea-9f10-401d-917d-39b80e3b0d64",
   "metadata": {},
   "outputs": [],
   "source": [
    "X = data.drop(\"LABEL\", axis=1)\n",
    "y = data[\"LABEL\"]\n"
   ]
  },
  {
   "cell_type": "code",
   "execution_count": 9,
   "id": "e4b2c3a6-5822-43a2-83f8-16ffdfad324b",
   "metadata": {},
   "outputs": [],
   "source": [
    "le = LabelEncoder()\n",
    "y = le.fit_transform(y)"
   ]
  },
  {
   "cell_type": "code",
   "execution_count": 10,
   "id": "389faf88-71c1-4f9e-a9c9-0e4d448761ca",
   "metadata": {},
   "outputs": [],
   "source": [
    "X_train, X_test, y_train, y_test = train_test_split(X, y, test_size=0.2)\n",
    "X_val, X_test, y_val, y_test = train_test_split(X_test, y_test, test_size=0.5)"
   ]
  },
  {
   "cell_type": "code",
   "execution_count": 11,
   "id": "bc3a0d81-fa5d-4db5-9b1c-31f6f5812307",
   "metadata": {},
   "outputs": [],
   "source": [
    "# model = Sequential()\n",
    "# model.add(Dense(512 , input_shape = (X_train.shape[1],)))\n",
    "# model.add(Activation('relu'))\n",
    "# model.add(Dropout(0.2))\n",
    "# model.add(Dense(1, activation='sigmoid'))"
   ]
  },
  {
   "cell_type": "code",
   "execution_count": 14,
   "id": "31675788-64da-4117-9b73-b8be4637fa05",
   "metadata": {},
   "outputs": [],
   "source": [
    "model = Sequential()\n",
    "model.add(Conv1D(filters=32, kernel_size=3, input_shape=(X_train.shape[1], 1)))  # Adjust kernel size as needed\n",
    "model.add(MaxPooling1D(pool_size=2))\n",
    "model.add(Dropout(0.2))\n",
    "model.add(Conv1D(filters=64, kernel_size=3))\n",
    "model.add(MaxPooling1D(pool_size=2))\n",
    "model.add(Dropout(0.2))\n",
    "model.add(Flatten())\n",
    "model.add(Dense(128, activation='relu'))\n",
    "model.add(Dropout(0.2))\n",
    "model.add(Dense(1, activation='sigmoid'))  # Sigmoid for binary classification"
   ]
  },
  {
   "cell_type": "code",
   "execution_count": 15,
   "id": "35b0bb13-a1ad-44a5-b352-3c52136b5b80",
   "metadata": {},
   "outputs": [
    {
     "name": "stdout",
     "output_type": "stream",
     "text": [
      "Model: \"sequential_1\"\n",
      "_________________________________________________________________\n",
      " Layer (type)                Output Shape              Param #   \n",
      "=================================================================\n",
      " conv1d (Conv1D)             (None, 24, 32)            128       \n",
      "                                                                 \n",
      " max_pooling1d (MaxPooling1  (None, 12, 32)            0         \n",
      " D)                                                              \n",
      "                                                                 \n",
      " dropout (Dropout)           (None, 12, 32)            0         \n",
      "                                                                 \n",
      " conv1d_1 (Conv1D)           (None, 10, 64)            6208      \n",
      "                                                                 \n",
      " max_pooling1d_1 (MaxPoolin  (None, 5, 64)             0         \n",
      " g1D)                                                            \n",
      "                                                                 \n",
      " dropout_1 (Dropout)         (None, 5, 64)             0         \n",
      "                                                                 \n",
      " flatten (Flatten)           (None, 320)               0         \n",
      "                                                                 \n",
      " dense (Dense)               (None, 128)               41088     \n",
      "                                                                 \n",
      " dropout_2 (Dropout)         (None, 128)               0         \n",
      "                                                                 \n",
      " dense_1 (Dense)             (None, 1)                 129       \n",
      "                                                                 \n",
      "=================================================================\n",
      "Total params: 47553 (185.75 KB)\n",
      "Trainable params: 47553 (185.75 KB)\n",
      "Non-trainable params: 0 (0.00 Byte)\n",
      "_________________________________________________________________\n"
     ]
    }
   ],
   "source": [
    "model.summary()"
   ]
  },
  {
   "cell_type": "code",
   "execution_count": 16,
   "id": "c5d181ee-c0f1-4856-ac6e-ce39db353e34",
   "metadata": {},
   "outputs": [],
   "source": [
    "model.compile(loss='binary_crossentropy', optimizer='adam', metrics=['accuracy'])"
   ]
  },
  {
   "cell_type": "code",
   "execution_count": 17,
   "id": "fc55a498-b723-45dd-b5ee-48e82a397544",
   "metadata": {},
   "outputs": [
    {
     "name": "stdout",
     "output_type": "stream",
     "text": [
      "Epoch 1/10\n",
      "295/295 [==============================] - 3s 5ms/step - loss: 0.3191 - accuracy: 0.8655 - val_loss: 0.1391 - val_accuracy: 0.9508\n",
      "Epoch 2/10\n",
      "295/295 [==============================] - 2s 5ms/step - loss: 0.1255 - accuracy: 0.9541 - val_loss: 0.0766 - val_accuracy: 0.9737\n",
      "Epoch 3/10\n",
      "295/295 [==============================] - 2s 5ms/step - loss: 0.0817 - accuracy: 0.9699 - val_loss: 0.0524 - val_accuracy: 0.9796\n",
      "Epoch 4/10\n",
      "295/295 [==============================] - 1s 5ms/step - loss: 0.0621 - accuracy: 0.9787 - val_loss: 0.0386 - val_accuracy: 0.9839\n",
      "Epoch 5/10\n",
      "295/295 [==============================] - 1s 5ms/step - loss: 0.0587 - accuracy: 0.9797 - val_loss: 0.0316 - val_accuracy: 0.9856\n",
      "Epoch 6/10\n",
      "295/295 [==============================] - 1s 5ms/step - loss: 0.0489 - accuracy: 0.9837 - val_loss: 0.0327 - val_accuracy: 0.9890\n",
      "Epoch 7/10\n",
      "295/295 [==============================] - 1s 5ms/step - loss: 0.0403 - accuracy: 0.9869 - val_loss: 0.0318 - val_accuracy: 0.9898\n",
      "Epoch 8/10\n",
      "295/295 [==============================] - 1s 5ms/step - loss: 0.0422 - accuracy: 0.9856 - val_loss: 0.0235 - val_accuracy: 0.9932\n",
      "Epoch 9/10\n",
      "295/295 [==============================] - 1s 5ms/step - loss: 0.0360 - accuracy: 0.9871 - val_loss: 0.0287 - val_accuracy: 0.9941\n",
      "Epoch 10/10\n",
      "295/295 [==============================] - 1s 5ms/step - loss: 0.0319 - accuracy: 0.9890 - val_loss: 0.0229 - val_accuracy: 0.9949\n"
     ]
    },
    {
     "data": {
      "text/plain": [
       "<keras.src.callbacks.History at 0x7fa9501889a0>"
      ]
     },
     "execution_count": 17,
     "metadata": {},
     "output_type": "execute_result"
    }
   ],
   "source": [
    "model.fit(X_train, y_train, epochs=10, batch_size=32, validation_data=(X_val, y_val))"
   ]
  },
  {
   "cell_type": "code",
   "execution_count": 18,
   "id": "d6f41a94-8fb7-4bb6-a98a-e8b63a6f59a4",
   "metadata": {},
   "outputs": [
    {
     "name": "stdout",
     "output_type": "stream",
     "text": [
      "37/37 [==============================] - 0s 2ms/step\n"
     ]
    },
    {
     "data": {
      "text/plain": [
       "array([[4.1181251e-01],\n",
       "       [9.9998128e-01],\n",
       "       [1.0978241e-04],\n",
       "       ...,\n",
       "       [9.9999905e-01],\n",
       "       [5.9813592e-03],\n",
       "       [9.8699003e-01]], dtype=float32)"
      ]
     },
     "execution_count": 18,
     "metadata": {},
     "output_type": "execute_result"
    }
   ],
   "source": [
    "y_pred = model.predict(X_test)\n",
    "y_pred"
   ]
  },
  {
   "cell_type": "code",
   "execution_count": 19,
   "id": "d0d57801-5cc2-40d8-9319-0ba61700a1db",
   "metadata": {},
   "outputs": [],
   "source": [
    "threshold = 0.5\n",
    "y_pred = np.where(y_pred > threshold, 1, 0)"
   ]
  },
  {
   "cell_type": "code",
   "execution_count": 20,
   "id": "7580c601-24f3-4aaf-a78c-23dae8181c62",
   "metadata": {},
   "outputs": [
    {
     "name": "stdout",
     "output_type": "stream",
     "text": [
      "Accuracy: 0.9898\n",
      "Precision: 0.9948\n",
      "Recall: 0.9846\n",
      "F1-score: 0.9897\n",
      "[[591   3]\n",
      " [  9 575]]\n"
     ]
    }
   ],
   "source": [
    "\n",
    "\n",
    "# Calculate accuracy, precision, recall, and F1-score\n",
    "from sklearn.metrics import accuracy_score, precision_score, recall_score, f1_score\n",
    "\n",
    "accuracy = accuracy_score(y_test, y_pred)\n",
    "precision = precision_score(y_test, y_pred)\n",
    "recall = recall_score(y_test, y_pred)\n",
    "f1 = f1_score(y_test, y_pred)\n",
    "\n",
    "print(f\"Accuracy: {accuracy:.4f}\")\n",
    "print(f\"Precision: {precision:.4f}\")\n",
    "print(f\"Recall: {recall:.4f}\")\n",
    "print(f\"F1-score: {f1:.4f}\")\n",
    "\n",
    "# Create a confusion matrix (optional)\n",
    "from sklearn.metrics import confusion_matrix\n",
    "\n",
    "cm = confusion_matrix(y_test, y_pred)\n",
    "print(cm)\n"
   ]
  },
  {
   "cell_type": "code",
   "execution_count": 21,
   "id": "34d7bb30-4b0f-478d-ba69-913ac0241d1d",
   "metadata": {},
   "outputs": [
    {
     "data": {
      "image/png": "[encoded data removed]",
      "text/plain": [
       "<Figure size 640x480 with 1 Axes>"
      ]
     },
     "metadata": {},
     "output_type": "display_data"
    }
   ],
   "source": [
    "from sklearn.metrics import roc_curve, auc\n",
    "\n",
    "fpr, tpr, _ = roc_curve(y_test, y_pred)\n",
    "roc_auc = auc(fpr, tpr)\n",
    "\n",
    "import matplotlib.pyplot as plt\n",
    "\n",
    "plt.figure()\n",
    "plt.plot(fpr, tpr, label='ROC curve (area = %0.2f)' % roc_auc)\n",
    "plt.plot([0, 1], [0, 1], 'k--')\n",
    "plt.xlabel('False Positive Rate')\n",
    "plt.ylabel('True Positive Rate')\n",
    "plt.title('ROC Curve')\n",
    "plt.legend(loc='best')\n",
    "plt.show()"
   ]
  },
  {
   "cell_type": "code",
   "execution_count": null,
   "id": "46e90882-6850-4c83-9cbe-ef87d89413f4",
   "metadata": {},
   "outputs": [],
   "source": []
  }
 ],
 "metadata": {
  "kernelspec": {
   "display_name": "Python 3 (ipykernel)",
   "language": "python",
   "name": "python3"
  },
  "language_info": {
   "codemirror_mode": {
    "name": "ipython",
    "version": 3
   },
   "file_extension": ".py",
   "mimetype": "text/x-python",
   "name": "python",
   "nbconvert_exporter": "python",
   "pygments_lexer": "ipython3",
   "version": "3.10.9"
  }
 },
 "nbformat": 4,
 "nbformat_minor": 5
}
